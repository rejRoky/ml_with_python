{
 "cells": [
  {
   "cell_type": "code",
   "execution_count": 2,
   "id": "d659d046",
   "metadata": {},
   "outputs": [],
   "source": [
    "import numpy as np"
   ]
  },
  {
   "cell_type": "code",
   "execution_count": 3,
   "id": "a7960452",
   "metadata": {},
   "outputs": [
    {
     "name": "stdout",
     "output_type": "stream",
     "text": [
      "[1. 2. 3. 4.]\n"
     ]
    },
    {
     "data": {
      "text/plain": [
       "(4,)"
      ]
     },
     "execution_count": 3,
     "metadata": {},
     "output_type": "execute_result"
    }
   ],
   "source": [
    "numpy_array = np.array([1,2,3,4], dtype = float)\n",
    "print(numpy_array)\n",
    "type(numpy_array)\n",
    "numpy_array.shape"
   ]
  },
  {
   "cell_type": "code",
   "execution_count": 4,
   "id": "053b9cca",
   "metadata": {},
   "outputs": [
    {
     "name": "stdout",
     "output_type": "stream",
     "text": [
      "[[1 2 3 4]\n",
      " [1 2 3 4]]\n"
     ]
    }
   ],
   "source": [
    "#nD Array\n",
    "numpy_array_n = np.array([(1,2,3,4), (1,2,3,4)])\n",
    "print(numpy_array_n)"
   ]
  },
  {
   "cell_type": "code",
   "execution_count": 5,
   "id": "ca51e5f2",
   "metadata": {},
   "outputs": [
    {
     "data": {
      "text/plain": [
       "(2, 4)"
      ]
     },
     "execution_count": 5,
     "metadata": {},
     "output_type": "execute_result"
    }
   ],
   "source": [
    "numpy_array_n.shape"
   ]
  },
  {
   "cell_type": "code",
   "execution_count": 6,
   "id": "b1170349",
   "metadata": {},
   "outputs": [
    {
     "name": "stdout",
     "output_type": "stream",
     "text": [
      "[[0. 0. 0. 0. 0.]\n",
      " [0. 0. 0. 0. 0.]\n",
      " [0. 0. 0. 0. 0.]\n",
      " [0. 0. 0. 0. 0.]]\n"
     ]
    }
   ],
   "source": [
    "# create a numpy array of zero\n",
    "x = np.zeros((4,5))\n",
    "print(x)"
   ]
  },
  {
   "cell_type": "code",
   "execution_count": 7,
   "id": "621c7520",
   "metadata": {},
   "outputs": [
    {
     "data": {
      "text/plain": [
       "array([[1., 1.],\n",
       "       [1., 1.],\n",
       "       [1., 1.]])"
      ]
     },
     "execution_count": 7,
     "metadata": {},
     "output_type": "execute_result"
    }
   ],
   "source": [
    "# create a numpy array of One\n",
    "y = np.ones((3,2))\n",
    "y"
   ]
  },
  {
   "cell_type": "code",
   "execution_count": 8,
   "id": "9bacee58",
   "metadata": {},
   "outputs": [
    {
     "data": {
      "text/plain": [
       "array([[5, 5, 5, 5],\n",
       "       [5, 5, 5, 5],\n",
       "       [5, 5, 5, 5]])"
      ]
     },
     "execution_count": 8,
     "metadata": {},
     "output_type": "execute_result"
    }
   ],
   "source": [
    "# create a numpy array of a particular value\n",
    "z = np.full((3,4), 5)\n",
    "z"
   ]
  },
  {
   "cell_type": "code",
   "execution_count": 9,
   "id": "4b615819",
   "metadata": {},
   "outputs": [
    {
     "data": {
      "text/plain": [
       "array([[1., 0., 0., 0.],\n",
       "       [0., 1., 0., 0.],\n",
       "       [0., 0., 1., 0.],\n",
       "       [0., 0., 0., 1.]])"
      ]
     },
     "execution_count": 9,
     "metadata": {},
     "output_type": "execute_result"
    }
   ],
   "source": [
    "# create an identity matrix\n",
    "a = np.eye(4)\n",
    "a"
   ]
  },
  {
   "cell_type": "code",
   "execution_count": 10,
   "id": "6dbe8210",
   "metadata": {},
   "outputs": [
    {
     "data": {
      "text/plain": [
       "array([[0.18048203, 0.02803856, 0.93064321, 0.84082446],\n",
       "       [0.40150745, 0.65867015, 0.16500811, 0.05443213],\n",
       "       [0.41775712, 0.17601618, 0.92116428, 0.83295565]])"
      ]
     },
     "execution_count": 10,
     "metadata": {},
     "output_type": "execute_result"
    }
   ],
   "source": [
    "# create a numpy array of a random value\n",
    "b = np.random.random((3,4))\n",
    "b"
   ]
  },
  {
   "cell_type": "code",
   "execution_count": 11,
   "id": "74284c46",
   "metadata": {},
   "outputs": [
    {
     "data": {
      "text/plain": [
       "array([[97, 25, 18, 68],\n",
       "       [40, 98, 93, 85],\n",
       "       [24, 93, 11, 50]])"
      ]
     },
     "execution_count": 11,
     "metadata": {},
     "output_type": "execute_result"
    }
   ],
   "source": [
    "# create a numpy array of a random integer value with speacifc range\n",
    "b = np.random.randint(10,100,(3,4))\n",
    "b"
   ]
  },
  {
   "cell_type": "code",
   "execution_count": 12,
   "id": "13d646bf",
   "metadata": {},
   "outputs": [
    {
     "data": {
      "text/plain": [
       "array([10. , 17.5, 25. , 32.5, 40. ])"
      ]
     },
     "execution_count": 12,
     "metadata": {},
     "output_type": "execute_result"
    }
   ],
   "source": [
    "# array of evenly value \n",
    "d = np.linspace(10,40,5)\n",
    "d\n"
   ]
  },
  {
   "cell_type": "code",
   "execution_count": 13,
   "id": "af1ba4a3",
   "metadata": {},
   "outputs": [
    {
     "data": {
      "text/plain": [
       "array([10, 12, 14, 16, 18, 20, 22, 24, 26, 28])"
      ]
     },
     "execution_count": 13,
     "metadata": {},
     "output_type": "execute_result"
    }
   ],
   "source": [
    "# array of evenly value  specific step\n",
    "d = np.arange(10,30,2)\n",
    "d"
   ]
  },
  {
   "cell_type": "code",
   "execution_count": 14,
   "id": "b46df873",
   "metadata": {},
   "outputs": [
    {
     "data": {
      "text/plain": [
       "numpy.ndarray"
      ]
     },
     "execution_count": 14,
     "metadata": {},
     "output_type": "execute_result"
    }
   ],
   "source": [
    "# convert a list to numpy array \n",
    "list = [1,2,3,4]\n",
    "\n",
    "np_array = np.asanyarray(list)\n",
    "type(np_array)\n"
   ]
  },
  {
   "cell_type": "markdown",
   "id": "a2acdf26",
   "metadata": {},
   "source": [
    "Analysing a numpy array"
   ]
  },
  {
   "cell_type": "code",
   "execution_count": 15,
   "id": "883b0320",
   "metadata": {},
   "outputs": [],
   "source": [
    "array = np.random.randint(10,40,(3,5))\n"
   ]
  },
  {
   "cell_type": "code",
   "execution_count": 16,
   "id": "f5edcd7e",
   "metadata": {},
   "outputs": [
    {
     "data": {
      "text/plain": [
       "(3, 5)"
      ]
     },
     "execution_count": 16,
     "metadata": {},
     "output_type": "execute_result"
    }
   ],
   "source": [
    "# array dimensions \n",
    "array.shape"
   ]
  },
  {
   "cell_type": "code",
   "execution_count": 17,
   "id": "df82a740",
   "metadata": {},
   "outputs": [
    {
     "data": {
      "text/plain": [
       "2"
      ]
     },
     "execution_count": 17,
     "metadata": {},
     "output_type": "execute_result"
    }
   ],
   "source": [
    "# number of dimensions\n",
    "array.ndim\n"
   ]
  },
  {
   "cell_type": "code",
   "execution_count": 18,
   "id": "7522f075",
   "metadata": {},
   "outputs": [
    {
     "data": {
      "text/plain": [
       "15"
      ]
     },
     "execution_count": 18,
     "metadata": {},
     "output_type": "execute_result"
    }
   ],
   "source": [
    "#number of  element of array\n",
    "array.size"
   ]
  },
  {
   "cell_type": "code",
   "execution_count": 19,
   "id": "e4cd6626",
   "metadata": {},
   "outputs": [
    {
     "data": {
      "text/plain": [
       "dtype('int64')"
      ]
     },
     "execution_count": 19,
     "metadata": {},
     "output_type": "execute_result"
    }
   ],
   "source": [
    "# checking data of a value of a array\n",
    "array.dtype"
   ]
  },
  {
   "cell_type": "markdown",
   "id": "93200c04",
   "metadata": {},
   "source": [
    "## math oparations\n"
   ]
  },
  {
   "cell_type": "code",
   "execution_count": 29,
   "id": "ee477d12",
   "metadata": {},
   "outputs": [
    {
     "data": {
      "text/plain": [
       "array([[57, 69, 41, 84, 54, 87],\n",
       "       [62, 82, 69, 75, 54, 80],\n",
       "       [56, 48, 82, 66, 48, 54],\n",
       "       [67, 63, 44, 42, 46, 46]])"
      ]
     },
     "execution_count": 29,
     "metadata": {},
     "output_type": "execute_result"
    }
   ],
   "source": [
    "list1 = [1,2,3,4]\n",
    "list2 = [2,3,4,5]\n",
    "\n",
    "list1 = np.asanyarray(list1)\n",
    "list2 = np.asanyarray(list2)\n",
    "\n",
    "\n",
    "new_list = list1+list2\n",
    "new_list\n",
    "\n",
    "a = np.random.randint(1,60, (4,6))\n",
    "b = np.random.randint(30,45,(4,6))\n",
    "\n",
    "a+b\n"
   ]
  },
  {
   "cell_type": "code",
   "execution_count": 30,
   "id": "710ed835",
   "metadata": {},
   "outputs": [
    {
     "data": {
      "text/plain": [
       "array([[-29,  -7, -19,   2, -16,   1],\n",
       "       [-24,  20,   3, -13, -16,  18],\n",
       "       [-12, -20,   8,  -8, -30,  -6],\n",
       "       [-11,  -5, -38, -18, -22, -30]])"
      ]
     },
     "execution_count": 30,
     "metadata": {},
     "output_type": "execute_result"
    }
   ],
   "source": [
    "a-b"
   ]
  },
  {
   "cell_type": "code",
   "execution_count": 31,
   "id": "e4647ce4",
   "metadata": {},
   "outputs": [
    {
     "data": {
      "text/plain": [
       "array([[ 602, 1178,  330, 1763,  665, 1892],\n",
       "       [ 817, 1581, 1188, 1364,  665, 1519],\n",
       "       [ 748,  476, 1665, 1073,  351,  720],\n",
       "       [1092,  986,  123,  360,  408,  304]])"
      ]
     },
     "execution_count": 31,
     "metadata": {},
     "output_type": "execute_result"
    }
   ],
   "source": [
    "a*b"
   ]
  },
  {
   "cell_type": "code",
   "execution_count": 32,
   "id": "c7207c7e",
   "metadata": {},
   "outputs": [
    {
     "data": {
      "text/plain": [
       "array([[0.3255814 , 0.81578947, 0.36666667, 1.04878049, 0.54285714,\n",
       "        1.02325581],\n",
       "       [0.44186047, 1.64516129, 1.09090909, 0.70454545, 0.54285714,\n",
       "        1.58064516],\n",
       "       [0.64705882, 0.41176471, 1.21621622, 0.78378378, 0.23076923,\n",
       "        0.8       ],\n",
       "       [0.71794872, 0.85294118, 0.07317073, 0.4       , 0.35294118,\n",
       "        0.21052632]])"
      ]
     },
     "execution_count": 32,
     "metadata": {},
     "output_type": "execute_result"
    }
   ],
   "source": [
    "a/b"
   ]
  },
  {
   "cell_type": "code",
   "execution_count": 34,
   "id": "c5964f07",
   "metadata": {},
   "outputs": [
    {
     "data": {
      "text/plain": [
       "array([[57, 69, 41, 84, 54, 87],\n",
       "       [62, 82, 69, 75, 54, 80],\n",
       "       [56, 48, 82, 66, 48, 54],\n",
       "       [67, 63, 44, 42, 46, 46]])"
      ]
     },
     "execution_count": 34,
     "metadata": {},
     "output_type": "execute_result"
    }
   ],
   "source": [
    "# addition\n",
    "np.add(a,b)"
   ]
  },
  {
   "cell_type": "code",
   "execution_count": 36,
   "id": "4223b171",
   "metadata": {},
   "outputs": [
    {
     "data": {
      "text/plain": [
       "array([[-29,  -7, -19,   2, -16,   1],\n",
       "       [-24,  20,   3, -13, -16,  18],\n",
       "       [-12, -20,   8,  -8, -30,  -6],\n",
       "       [-11,  -5, -38, -18, -22, -30]])"
      ]
     },
     "execution_count": 36,
     "metadata": {},
     "output_type": "execute_result"
    }
   ],
   "source": [
    "#subtraction\n",
    "np.subtract(a,b)"
   ]
  },
  {
   "cell_type": "code",
   "execution_count": 38,
   "id": "1174c623",
   "metadata": {},
   "outputs": [
    {
     "data": {
      "text/plain": [
       "array([[ 602, 1178,  330, 1763,  665, 1892],\n",
       "       [ 817, 1581, 1188, 1364,  665, 1519],\n",
       "       [ 748,  476, 1665, 1073,  351,  720],\n",
       "       [1092,  986,  123,  360,  408,  304]])"
      ]
     },
     "execution_count": 38,
     "metadata": {},
     "output_type": "execute_result"
    }
   ],
   "source": [
    "#multiply\n",
    "np.multiply(a,b)"
   ]
  },
  {
   "cell_type": "code",
   "execution_count": 39,
   "id": "ff5d7325",
   "metadata": {},
   "outputs": [
    {
     "data": {
      "text/plain": [
       "array([[0.3255814 , 0.81578947, 0.36666667, 1.04878049, 0.54285714,\n",
       "        1.02325581],\n",
       "       [0.44186047, 1.64516129, 1.09090909, 0.70454545, 0.54285714,\n",
       "        1.58064516],\n",
       "       [0.64705882, 0.41176471, 1.21621622, 0.78378378, 0.23076923,\n",
       "        0.8       ],\n",
       "       [0.71794872, 0.85294118, 0.07317073, 0.4       , 0.35294118,\n",
       "        0.21052632]])"
      ]
     },
     "execution_count": 39,
     "metadata": {},
     "output_type": "execute_result"
    }
   ],
   "source": [
    "#divide\n",
    "np.divide(a,b)"
   ]
  },
  {
   "cell_type": "markdown",
   "id": "9c9b670d",
   "metadata": {},
   "source": [
    "## array manipution"
   ]
  },
  {
   "cell_type": "code",
   "execution_count": 43,
   "id": "9f9dc4cd",
   "metadata": {},
   "outputs": [
    {
     "name": "stdout",
     "output_type": "stream",
     "text": [
      "[[29 15 10  7 18 16]\n",
      " [39 40  8 15 15 16]\n",
      " [35  7  3 48  4  5]\n",
      " [23 24 43 25 46 40]\n",
      " [44  1 29 21 39 30]]\n",
      "(5, 6)\n"
     ]
    }
   ],
   "source": [
    "array = np.random.randint(1,50,(5,6))\n",
    "print(array)\n",
    "print(array.shape)"
   ]
  },
  {
   "cell_type": "code",
   "execution_count": 45,
   "id": "97d73f35",
   "metadata": {},
   "outputs": [
    {
     "name": "stdout",
     "output_type": "stream",
     "text": [
      "[[29 39 35 23 44]\n",
      " [15 40  7 24  1]\n",
      " [10  8  3 43 29]\n",
      " [ 7 15 48 25 21]\n",
      " [18 15  4 46 39]\n",
      " [16 16  5 40 30]]\n",
      "(6, 5)\n"
     ]
    }
   ],
   "source": [
    "# transpose \n",
    "trans = np.transpose(array)\n",
    "print(trans)\n",
    "print(trans.shape)"
   ]
  },
  {
   "cell_type": "code",
   "execution_count": 50,
   "id": "0c19caba",
   "metadata": {},
   "outputs": [
    {
     "name": "stdout",
     "output_type": "stream",
     "text": [
      "[[29 39 35 23 44]\n",
      " [15 40  7 24  1]\n",
      " [10  8  3 43 29]\n",
      " [ 7 15 48 25 21]\n",
      " [18 15  4 46 39]\n",
      " [16 16  5 40 30]]\n",
      "(5, 6)\n"
     ]
    }
   ],
   "source": [
    "# transpose  2nd way\n",
    "print(array.T)\n",
    "print (array.shape)"
   ]
  },
  {
   "cell_type": "code",
   "execution_count": 52,
   "id": "5d5cb883",
   "metadata": {},
   "outputs": [
    {
     "name": "stdout",
     "output_type": "stream",
     "text": [
      "[[45 36 10 18 23  4]\n",
      " [16 35  3 21 13 42]\n",
      " [43 42 11 48 35 30]\n",
      " [46 11 16 35  9 33]\n",
      " [10  6 30 13 43 20]]\n",
      "(5, 6)\n"
     ]
    }
   ],
   "source": [
    "# reshaping a array \n",
    "a = np.random.randint(1,50,(5,6))\n",
    "print(a)\n",
    "print(a.shape)"
   ]
  },
  {
   "cell_type": "code",
   "execution_count": 55,
   "id": "635378a4",
   "metadata": {},
   "outputs": [
    {
     "name": "stdout",
     "output_type": "stream",
     "text": [
      "[[19 28 13 36 32]\n",
      " [27 25 30  2 31]\n",
      " [36 42 33 47  5]\n",
      " [ 8 39 34 37 19]\n",
      " [19 25 19 33 18]\n",
      " [ 2 16 39 39 30]]\n",
      "(6, 5)\n"
     ]
    }
   ],
   "source": [
    "b = a.reshape(6,5)\n",
    "print(b)\n",
    "print(b.shape)"
   ]
  },
  {
   "cell_type": "code",
   "execution_count": null,
   "id": "126e90e3",
   "metadata": {},
   "outputs": [],
   "source": []
  }
 ],
 "metadata": {
  "kernelspec": {
   "display_name": "Python 3 (ipykernel)",
   "language": "python",
   "name": "python3"
  },
  "language_info": {
   "codemirror_mode": {
    "name": "ipython",
    "version": 3
   },
   "file_extension": ".py",
   "mimetype": "text/x-python",
   "name": "python",
   "nbconvert_exporter": "python",
   "pygments_lexer": "ipython3",
   "version": "3.11.5"
  }
 },
 "nbformat": 4,
 "nbformat_minor": 5
}
